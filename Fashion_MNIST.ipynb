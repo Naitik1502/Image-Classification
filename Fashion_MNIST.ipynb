{
  "nbformat": 4,
  "nbformat_minor": 0,
  "metadata": {
    "colab": {
      "name": "Fashion_MNIST.ipynb",
      "provenance": []
    },
    "kernelspec": {
      "name": "python3",
      "display_name": "Python 3"
    },
    "accelerator": "TPU"
  },
  "cells": [
    {
      "cell_type": "code",
      "metadata": {
        "id": "8AMg2VlfmgsF",
        "colab_type": "code",
        "outputId": "c9a62bec-daad-467c-ae0d-5d1dd7f26cc1",
        "colab": {
          "base_uri": "https://localhost:8080/",
          "height": 34
        }
      },
      "source": [
        "import random\n",
        "from tensorflow.keras.utils import to_categorical\n",
        "import keras\n",
        "from tensorflow.python.keras.layers import Dense, Flatten, MaxPooling2D\n",
        "from tensorflow.python.keras import Sequential\n",
        "from tensorflow.keras.layers import Conv2D\n",
        "from tensorflow.keras.optimizers import Adadelta\n",
        "from tensorflow.keras.optimizers import Adam\n",
        "import os\n",
        "from tensorflow.keras.callbacks import  ModelCheckpoint\n",
        "import matplotlib.pyplot as plt\n",
        "%matplotlib inline\n",
        "import matplotlib.image as img\n",
        "import numpy as np\n",
        "import pandas as pd\n",
        "import cv2\n",
        "from sklearn.preprocessing import LabelEncoder\n",
        "label_encoder = LabelEncoder()\n",
        "from sklearn.model_selection import train_test_split\n",
        "from keras.preprocessing.image import ImageDataGenerator\n",
        "from sklearn.metrics import classification_report"
      ],
      "execution_count": 0,
      "outputs": [
        {
          "output_type": "stream",
          "text": [
            "Using TensorFlow backend.\n"
          ],
          "name": "stderr"
        }
      ]
    },
    {
      "cell_type": "code",
      "metadata": {
        "id": "MhjeQ54ZtXgM",
        "colab_type": "code",
        "colab": {}
      },
      "source": [
        "from pydrive.auth import GoogleAuth\n",
        "from pydrive.drive import GoogleDrive\n",
        "from google.colab import auth\n",
        "from oauth2client.client import GoogleCredentials\n",
        "auth.authenticate_user()\n",
        "gauth = GoogleAuth()\n",
        "gauth.credentials = GoogleCredentials.get_application_default()\n",
        "drive = GoogleDrive(gauth)"
      ],
      "execution_count": 0,
      "outputs": []
    },
    {
      "cell_type": "code",
      "metadata": {
        "id": "LVI4WtMEnJ_s",
        "colab_type": "code",
        "colab": {}
      },
      "source": [
        "#Dataset\n",
        "downloaded = drive.CreateFile({'id':\"1N7LjNc22CF8NnWZIq0uum3ukKDlawHpA\"})   # replace the id with id of file you want to access\n",
        "downloaded.GetContentFile('fashion-mnist_train.csv')        # replace the file name with your file"
      ],
      "execution_count": 0,
      "outputs": []
    },
    {
      "cell_type": "code",
      "metadata": {
        "id": "NZ_cOUEY-sLR",
        "colab_type": "code",
        "colab": {}
      },
      "source": [
        "#Dataset\n",
        "downloaded = drive.CreateFile({'id':\"1L6Ka8UNvAmNEbxLRotBUy9fAefNR1Qbv\"})   # replace the id with id of file you want to access\n",
        "downloaded.GetContentFile('fashion-mnist_test.csv')        # replace the file name with your file"
      ],
      "execution_count": 0,
      "outputs": []
    },
    {
      "cell_type": "code",
      "metadata": {
        "id": "jyNcerOjnL3e",
        "colab_type": "code",
        "colab": {}
      },
      "source": [
        "#loading Dataset\n",
        "train = pd.read_csv('fashion-mnist_train.csv')"
      ],
      "execution_count": 0,
      "outputs": []
    },
    {
      "cell_type": "code",
      "metadata": {
        "id": "VjkCgReB-_EP",
        "colab_type": "code",
        "colab": {}
      },
      "source": [
        "test = pd.read_csv('fashion-mnist_test.csv')"
      ],
      "execution_count": 0,
      "outputs": []
    },
    {
      "cell_type": "code",
      "metadata": {
        "id": "cPGn5_aBrcFc",
        "colab_type": "code",
        "colab": {}
      },
      "source": [
        "trainY = train['label']"
      ],
      "execution_count": 0,
      "outputs": []
    },
    {
      "cell_type": "code",
      "metadata": {
        "id": "udMEeE0UA2uJ",
        "colab_type": "code",
        "colab": {}
      },
      "source": [
        "testY = test['label']"
      ],
      "execution_count": 0,
      "outputs": []
    },
    {
      "cell_type": "code",
      "metadata": {
        "id": "61bd_TXar0m4",
        "colab_type": "code",
        "colab": {}
      },
      "source": [
        "trainX_cols = []\n",
        "for i in range(1 ,785) :\n",
        "  trainX_cols.append('pixel' + str(i))"
      ],
      "execution_count": 0,
      "outputs": []
    },
    {
      "cell_type": "code",
      "metadata": {
        "id": "_e_Wal_pr60N",
        "colab_type": "code",
        "colab": {}
      },
      "source": [
        "trainX = train[trainX_cols]"
      ],
      "execution_count": 0,
      "outputs": []
    },
    {
      "cell_type": "code",
      "metadata": {
        "id": "5Hzty61P_KpC",
        "colab_type": "code",
        "colab": {}
      },
      "source": [
        "testX = test[trainX_cols]"
      ],
      "execution_count": 0,
      "outputs": []
    },
    {
      "cell_type": "code",
      "metadata": {
        "id": "LZTVJNVOs-pY",
        "colab_type": "code",
        "colab": {}
      },
      "source": [
        "X_train, X_valid, y_train, y_valid = train_test_split(trainX, trainY, test_size=0.1)"
      ],
      "execution_count": 0,
      "outputs": []
    },
    {
      "cell_type": "code",
      "metadata": {
        "id": "-Aulb-v9tmjK",
        "colab_type": "code",
        "colab": {}
      },
      "source": [
        "X_train = np.array(X_train)\n",
        "X_valid = np.array(X_valid)\n",
        "X_train_reshaped = X_train.reshape(54000, 28, 28, 1)\n",
        "X_train_no_reshape = X_train.reshape(54000, 28, 28)\n",
        "X_valid_reshaped = X_valid.reshape(6000, 28, 28, 1)\n",
        "X_train_no_reshape = X_valid.reshape(6000, 28, 28)"
      ],
      "execution_count": 0,
      "outputs": []
    },
    {
      "cell_type": "code",
      "metadata": {
        "id": "26QMtWaT55T1",
        "colab_type": "code",
        "colab": {}
      },
      "source": [
        "image = cv2.copyMakeBorder(X_train_no_reshape[0] , top, bottom, left, right, borderType)"
      ],
      "execution_count": 0,
      "outputs": []
    },
    {
      "cell_type": "code",
      "metadata": {
        "id": "eCe12zNp_R_i",
        "colab_type": "code",
        "colab": {}
      },
      "source": [
        "X_test = np.array(testX)\n",
        "X_test_reshaped = X_test.reshape(10000, 28, 28, 1)"
      ],
      "execution_count": 0,
      "outputs": []
    },
    {
      "cell_type": "code",
      "metadata": {
        "id": "uDkIId_PxWw8",
        "colab_type": "code",
        "colab": {}
      },
      "source": [
        "y_train=to_categorical(y_train)\n",
        "y_valid=to_categorical(y_valid)"
      ],
      "execution_count": 0,
      "outputs": []
    },
    {
      "cell_type": "code",
      "metadata": {
        "id": "81K1A9ZRA9Ac",
        "colab_type": "code",
        "colab": {}
      },
      "source": [
        "y_test=to_categorical(testY)"
      ],
      "execution_count": 0,
      "outputs": []
    },
    {
      "cell_type": "code",
      "metadata": {
        "id": "zicqhOATvqEj",
        "colab_type": "code",
        "colab": {}
      },
      "source": [
        "input_shape=(28, 28, 1)"
      ],
      "execution_count": 0,
      "outputs": []
    },
    {
      "cell_type": "code",
      "metadata": {
        "id": "bJLu63ccv7-D",
        "colab_type": "code",
        "colab": {}
      },
      "source": [
        "#Define Model\n",
        "model=Sequential()\n",
        "model.add(Conv2D(128, kernel_size=(5, 5), activation='relu', input_shape=input_shape))\n",
        "model.add(MaxPooling2D((2, 2)))\n",
        "model.add(Conv2D(128, kernel_size=(5, 5), activation='relu'))\n",
        "model.add(MaxPooling2D(pool_size=(2, 2)))\n",
        "\n",
        "model.add(Flatten())\n",
        "\n",
        "model.add(Dense(256, activation='relu'))\n",
        "model.add(Dense(10, activation='softmax'))\n",
        "\n",
        "model.compile(loss=keras.losses.categorical_crossentropy,\n",
        "              optimizer=Adam(),\n",
        "              metrics=['accuracy'])"
      ],
      "execution_count": 0,
      "outputs": []
    },
    {
      "cell_type": "code",
      "metadata": {
        "id": "ki5mriFAxHrt",
        "colab_type": "code",
        "colab": {}
      },
      "source": [
        "train_datagen = ImageDataGenerator(\n",
        "      rotation_range=8,\n",
        "      width_shift_range=0.08,\n",
        "      height_shift_range=0.08,\n",
        "      shear_range = 0.3,\n",
        "      zoom_range = 0.08)"
      ],
      "execution_count": 0,
      "outputs": []
    },
    {
      "cell_type": "code",
      "metadata": {
        "id": "j71Uozo5yMtk",
        "colab_type": "code",
        "colab": {}
      },
      "source": [
        "train_generator = train_datagen.flow(\n",
        "         X_train_reshaped , \n",
        "         y_train ,\n",
        "        batch_size= 128)"
      ],
      "execution_count": 0,
      "outputs": []
    },
    {
      "cell_type": "code",
      "metadata": {
        "id": "VM4n1U-eyf42",
        "colab_type": "code",
        "colab": {}
      },
      "source": [
        "validation_generator = train_datagen.flow(\n",
        "        X_valid_reshaped,\n",
        "        y_valid,\n",
        "        batch_size=128,)"
      ],
      "execution_count": 0,
      "outputs": []
    },
    {
      "cell_type": "code",
      "metadata": {
        "id": "5a5J96HMo0Su",
        "colab_type": "code",
        "outputId": "81629669-d7e9-4cb6-e023-7e6a55c34a9e",
        "colab": {
          "base_uri": "https://localhost:8080/",
          "height": 34
        }
      },
      "source": [
        "model.load_weights(\"/content/drive/My Drive/fashion_mnist_checkpoints\")"
      ],
      "execution_count": 0,
      "outputs": [
        {
          "output_type": "execute_result",
          "data": {
            "text/plain": [
              "<tensorflow.python.training.tracking.util.CheckpointLoadStatus at 0x7f3b9f04c5f8>"
            ]
          },
          "metadata": {
            "tags": []
          },
          "execution_count": 23
        }
      ]
    },
    {
      "cell_type": "code",
      "metadata": {
        "id": "7_1lqaqLzp4g",
        "colab_type": "code",
        "outputId": "8a610fbf-a8f4-4282-8d55-f06f87119c45",
        "colab": {
          "base_uri": "https://localhost:8080/",
          "height": 1000
        }
      },
      "source": [
        "checkpoint_path = \"/content/drive/My Drive/fashion_mnist_checkpoints\"\n",
        "checkpoint_dir = os.path.dirname(checkpoint_path)\n",
        "\n",
        "# Create a callback that saves the model's weights\n",
        "cp_callback = ModelCheckpoint(filepath=checkpoint_path,\n",
        "                                                 save_weights_only=True,\n",
        "                                                 verbose=1)\n",
        "history=model.fit_generator(train_generator, \n",
        "                    steps_per_epoch=y_train.shape[0]//128, \n",
        "                    epochs=50, \n",
        "                    validation_data = validation_generator,\n",
        "                    validation_steps=y_valid.shape[0]//128,\n",
        "                    callbacks=[cp_callback]\n",
        "                    )"
      ],
      "execution_count": 0,
      "outputs": [
        {
          "output_type": "stream",
          "text": [
            "WARNING:tensorflow:From <ipython-input-26-70b6bd1d450a>:13: Model.fit_generator (from tensorflow.python.keras.engine.training) is deprecated and will be removed in a future version.\n",
            "Instructions for updating:\n",
            "Please use Model.fit, which supports generators.\n",
            "Epoch 1/50\n",
            "421/421 [==============================] - ETA: 0s - loss: 0.2519 - accuracy: 0.9061\n",
            "Epoch 00001: saving model to /content/drive/My Drive/fashion_mnist_checkpoints\n",
            "421/421 [==============================] - 257s 611ms/step - loss: 0.2519 - accuracy: 0.9061 - val_loss: 0.2489 - val_accuracy: 0.9091\n",
            "Epoch 2/50\n",
            "421/421 [==============================] - ETA: 0s - loss: 0.2522 - accuracy: 0.9066\n",
            "Epoch 00002: saving model to /content/drive/My Drive/fashion_mnist_checkpoints\n",
            "421/421 [==============================] - 261s 619ms/step - loss: 0.2522 - accuracy: 0.9066 - val_loss: 0.2290 - val_accuracy: 0.9158\n",
            "Epoch 3/50\n",
            "421/421 [==============================] - ETA: 0s - loss: 0.2519 - accuracy: 0.9058\n",
            "Epoch 00003: saving model to /content/drive/My Drive/fashion_mnist_checkpoints\n",
            "421/421 [==============================] - 257s 610ms/step - loss: 0.2519 - accuracy: 0.9058 - val_loss: 0.2439 - val_accuracy: 0.9102\n",
            "Epoch 4/50\n",
            "421/421 [==============================] - ETA: 0s - loss: 0.2466 - accuracy: 0.9091\n",
            "Epoch 00004: saving model to /content/drive/My Drive/fashion_mnist_checkpoints\n",
            "421/421 [==============================] - 260s 618ms/step - loss: 0.2466 - accuracy: 0.9091 - val_loss: 0.2537 - val_accuracy: 0.9049\n",
            "Epoch 5/50\n",
            "421/421 [==============================] - ETA: 0s - loss: 0.2448 - accuracy: 0.9088\n",
            "Epoch 00005: saving model to /content/drive/My Drive/fashion_mnist_checkpoints\n",
            "421/421 [==============================] - 257s 610ms/step - loss: 0.2448 - accuracy: 0.9088 - val_loss: 0.2569 - val_accuracy: 0.9061\n",
            "Epoch 6/50\n",
            "421/421 [==============================] - ETA: 0s - loss: 0.2472 - accuracy: 0.9090\n",
            "Epoch 00006: saving model to /content/drive/My Drive/fashion_mnist_checkpoints\n",
            "421/421 [==============================] - 257s 609ms/step - loss: 0.2472 - accuracy: 0.9090 - val_loss: 0.2435 - val_accuracy: 0.9113\n",
            "Epoch 7/50\n",
            "421/421 [==============================] - ETA: 0s - loss: 0.2450 - accuracy: 0.9077\n",
            "Epoch 00007: saving model to /content/drive/My Drive/fashion_mnist_checkpoints\n",
            "421/421 [==============================] - 260s 618ms/step - loss: 0.2450 - accuracy: 0.9077 - val_loss: 0.2410 - val_accuracy: 0.9088\n",
            "Epoch 8/50\n",
            "421/421 [==============================] - ETA: 0s - loss: 0.2479 - accuracy: 0.9090\n",
            "Epoch 00008: saving model to /content/drive/My Drive/fashion_mnist_checkpoints\n",
            "421/421 [==============================] - 257s 610ms/step - loss: 0.2479 - accuracy: 0.9090 - val_loss: 0.2562 - val_accuracy: 0.9061\n",
            "Epoch 9/50\n",
            "421/421 [==============================] - ETA: 0s - loss: 0.2447 - accuracy: 0.9098\n",
            "Epoch 00009: saving model to /content/drive/My Drive/fashion_mnist_checkpoints\n",
            "421/421 [==============================] - 261s 620ms/step - loss: 0.2447 - accuracy: 0.9098 - val_loss: 0.2899 - val_accuracy: 0.8945\n",
            "Epoch 10/50\n",
            "421/421 [==============================] - ETA: 0s - loss: 0.2454 - accuracy: 0.9084\n",
            "Epoch 00010: saving model to /content/drive/My Drive/fashion_mnist_checkpoints\n",
            "421/421 [==============================] - 258s 612ms/step - loss: 0.2454 - accuracy: 0.9084 - val_loss: 0.2803 - val_accuracy: 0.9062\n",
            "Epoch 11/50\n",
            "421/421 [==============================] - ETA: 0s - loss: 0.2472 - accuracy: 0.9069\n",
            "Epoch 00011: saving model to /content/drive/My Drive/fashion_mnist_checkpoints\n",
            "421/421 [==============================] - 261s 620ms/step - loss: 0.2472 - accuracy: 0.9069 - val_loss: 0.2682 - val_accuracy: 0.9061\n",
            "Epoch 12/50\n",
            "421/421 [==============================] - ETA: 0s - loss: 0.2465 - accuracy: 0.9092\n",
            "Epoch 00012: saving model to /content/drive/My Drive/fashion_mnist_checkpoints\n",
            "421/421 [==============================] - 256s 609ms/step - loss: 0.2465 - accuracy: 0.9092 - val_loss: 0.2538 - val_accuracy: 0.9057\n",
            "Epoch 13/50\n",
            "421/421 [==============================] - ETA: 0s - loss: 0.2428 - accuracy: 0.9089\n",
            "Epoch 00013: saving model to /content/drive/My Drive/fashion_mnist_checkpoints\n",
            "421/421 [==============================] - 257s 610ms/step - loss: 0.2428 - accuracy: 0.9089 - val_loss: 0.2562 - val_accuracy: 0.9076\n",
            "Epoch 14/50\n",
            "421/421 [==============================] - ETA: 0s - loss: 0.2424 - accuracy: 0.9100\n",
            "Epoch 00014: saving model to /content/drive/My Drive/fashion_mnist_checkpoints\n",
            "421/421 [==============================] - 261s 619ms/step - loss: 0.2424 - accuracy: 0.9100 - val_loss: 0.2827 - val_accuracy: 0.9046\n",
            "Epoch 15/50\n",
            "421/421 [==============================] - ETA: 0s - loss: 0.2416 - accuracy: 0.9097\n",
            "Epoch 00015: saving model to /content/drive/My Drive/fashion_mnist_checkpoints\n",
            "421/421 [==============================] - 257s 611ms/step - loss: 0.2416 - accuracy: 0.9097 - val_loss: 0.2553 - val_accuracy: 0.9078\n",
            "Epoch 16/50\n",
            "421/421 [==============================] - ETA: 0s - loss: 0.2413 - accuracy: 0.9084\n",
            "Epoch 00016: saving model to /content/drive/My Drive/fashion_mnist_checkpoints\n",
            "421/421 [==============================] - 260s 618ms/step - loss: 0.2413 - accuracy: 0.9084 - val_loss: 0.2823 - val_accuracy: 0.9008\n",
            "Epoch 17/50\n",
            "421/421 [==============================] - ETA: 0s - loss: 0.2419 - accuracy: 0.9100\n",
            "Epoch 00017: saving model to /content/drive/My Drive/fashion_mnist_checkpoints\n",
            "421/421 [==============================] - 257s 610ms/step - loss: 0.2419 - accuracy: 0.9100 - val_loss: 0.2940 - val_accuracy: 0.8881\n",
            "Epoch 18/50\n",
            "421/421 [==============================] - ETA: 0s - loss: 0.2423 - accuracy: 0.9100\n",
            "Epoch 00018: saving model to /content/drive/My Drive/fashion_mnist_checkpoints\n",
            "421/421 [==============================] - 260s 619ms/step - loss: 0.2423 - accuracy: 0.9100 - val_loss: 0.2578 - val_accuracy: 0.9052\n",
            "Epoch 19/50\n",
            "421/421 [==============================] - ETA: 0s - loss: 0.2373 - accuracy: 0.9105\n",
            "Epoch 00019: saving model to /content/drive/My Drive/fashion_mnist_checkpoints\n",
            "421/421 [==============================] - 257s 611ms/step - loss: 0.2373 - accuracy: 0.9105 - val_loss: 0.2534 - val_accuracy: 0.9107\n",
            "Epoch 20/50\n",
            "421/421 [==============================] - ETA: 0s - loss: 0.2381 - accuracy: 0.9121\n",
            "Epoch 00020: saving model to /content/drive/My Drive/fashion_mnist_checkpoints\n",
            "421/421 [==============================] - 257s 611ms/step - loss: 0.2381 - accuracy: 0.9121 - val_loss: 0.2814 - val_accuracy: 0.9006\n",
            "Epoch 21/50\n",
            "421/421 [==============================] - ETA: 0s - loss: 0.2339 - accuracy: 0.9117\n",
            "Epoch 00021: saving model to /content/drive/My Drive/fashion_mnist_checkpoints\n",
            "421/421 [==============================] - 261s 619ms/step - loss: 0.2339 - accuracy: 0.9117 - val_loss: 0.2764 - val_accuracy: 0.9044\n",
            "Epoch 22/50\n",
            "421/421 [==============================] - ETA: 0s - loss: 0.2343 - accuracy: 0.9121\n",
            "Epoch 00022: saving model to /content/drive/My Drive/fashion_mnist_checkpoints\n",
            "421/421 [==============================] - 258s 614ms/step - loss: 0.2343 - accuracy: 0.9121 - val_loss: 0.2638 - val_accuracy: 0.9090\n",
            "Epoch 23/50\n",
            "421/421 [==============================] - ETA: 0s - loss: 0.2343 - accuracy: 0.9124\n",
            "Epoch 00023: saving model to /content/drive/My Drive/fashion_mnist_checkpoints\n",
            "421/421 [==============================] - 262s 622ms/step - loss: 0.2343 - accuracy: 0.9124 - val_loss: 0.2618 - val_accuracy: 0.9066\n",
            "Epoch 24/50\n",
            "421/421 [==============================] - ETA: 0s - loss: 0.2370 - accuracy: 0.9121\n",
            "Epoch 00024: saving model to /content/drive/My Drive/fashion_mnist_checkpoints\n",
            "421/421 [==============================] - 258s 612ms/step - loss: 0.2370 - accuracy: 0.9121 - val_loss: 0.3063 - val_accuracy: 0.8947\n",
            "Epoch 25/50\n",
            "421/421 [==============================] - ETA: 0s - loss: 0.2342 - accuracy: 0.9121\n",
            "Epoch 00025: saving model to /content/drive/My Drive/fashion_mnist_checkpoints\n",
            "421/421 [==============================] - 263s 625ms/step - loss: 0.2342 - accuracy: 0.9121 - val_loss: 0.2644 - val_accuracy: 0.9052\n",
            "Epoch 26/50\n",
            "421/421 [==============================] - ETA: 0s - loss: 0.2327 - accuracy: 0.9147\n",
            "Epoch 00026: saving model to /content/drive/My Drive/fashion_mnist_checkpoints\n",
            "421/421 [==============================] - 258s 613ms/step - loss: 0.2327 - accuracy: 0.9147 - val_loss: 0.2739 - val_accuracy: 0.9022\n",
            "Epoch 27/50\n",
            "421/421 [==============================] - ETA: 0s - loss: 0.2387 - accuracy: 0.9109\n",
            "Epoch 00027: saving model to /content/drive/My Drive/fashion_mnist_checkpoints\n",
            "421/421 [==============================] - 258s 614ms/step - loss: 0.2387 - accuracy: 0.9109 - val_loss: 0.2526 - val_accuracy: 0.9062\n",
            "Epoch 28/50\n",
            "421/421 [==============================] - ETA: 0s - loss: 0.2333 - accuracy: 0.9125\n",
            "Epoch 00028: saving model to /content/drive/My Drive/fashion_mnist_checkpoints\n",
            "421/421 [==============================] - 262s 622ms/step - loss: 0.2333 - accuracy: 0.9125 - val_loss: 0.2641 - val_accuracy: 0.9105\n",
            "Epoch 29/50\n",
            "421/421 [==============================] - ETA: 0s - loss: 0.2369 - accuracy: 0.9120\n",
            "Epoch 00029: saving model to /content/drive/My Drive/fashion_mnist_checkpoints\n",
            "421/421 [==============================] - 259s 615ms/step - loss: 0.2369 - accuracy: 0.9120 - val_loss: 0.2950 - val_accuracy: 0.9023\n",
            "Epoch 30/50\n",
            "421/421 [==============================] - ETA: 0s - loss: 0.2335 - accuracy: 0.9114\n",
            "Epoch 00030: saving model to /content/drive/My Drive/fashion_mnist_checkpoints\n",
            "421/421 [==============================] - 262s 622ms/step - loss: 0.2335 - accuracy: 0.9114 - val_loss: 0.2809 - val_accuracy: 0.9046\n",
            "Epoch 31/50\n",
            "421/421 [==============================] - ETA: 0s - loss: 0.2280 - accuracy: 0.9152\n",
            "Epoch 00031: saving model to /content/drive/My Drive/fashion_mnist_checkpoints\n",
            "421/421 [==============================] - 260s 618ms/step - loss: 0.2280 - accuracy: 0.9152 - val_loss: 0.2880 - val_accuracy: 0.9020\n",
            "Epoch 32/50\n",
            "421/421 [==============================] - ETA: 0s - loss: 0.2335 - accuracy: 0.9137\n",
            "Epoch 00032: saving model to /content/drive/My Drive/fashion_mnist_checkpoints\n",
            "421/421 [==============================] - 265s 630ms/step - loss: 0.2335 - accuracy: 0.9137 - val_loss: 0.2788 - val_accuracy: 0.9049\n",
            "Epoch 33/50\n",
            "421/421 [==============================] - ETA: 0s - loss: 0.2323 - accuracy: 0.9144\n",
            "Epoch 00033: saving model to /content/drive/My Drive/fashion_mnist_checkpoints\n",
            "421/421 [==============================] - 261s 620ms/step - loss: 0.2323 - accuracy: 0.9144 - val_loss: 0.2885 - val_accuracy: 0.9003\n",
            "Epoch 34/50\n",
            "421/421 [==============================] - ETA: 0s - loss: 0.2275 - accuracy: 0.9163\n",
            "Epoch 00034: saving model to /content/drive/My Drive/fashion_mnist_checkpoints\n",
            "421/421 [==============================] - 261s 619ms/step - loss: 0.2275 - accuracy: 0.9163 - val_loss: 0.2649 - val_accuracy: 0.9086\n",
            "Epoch 35/50\n",
            "421/421 [==============================] - ETA: 0s - loss: 0.2314 - accuracy: 0.9139\n",
            "Epoch 00035: saving model to /content/drive/My Drive/fashion_mnist_checkpoints\n",
            "421/421 [==============================] - 263s 624ms/step - loss: 0.2314 - accuracy: 0.9139 - val_loss: 0.2811 - val_accuracy: 0.9051\n",
            "Epoch 36/50\n",
            "421/421 [==============================] - ETA: 0s - loss: 0.2321 - accuracy: 0.9139\n",
            "Epoch 00036: saving model to /content/drive/My Drive/fashion_mnist_checkpoints\n",
            "421/421 [==============================] - 259s 615ms/step - loss: 0.2321 - accuracy: 0.9139 - val_loss: 0.2634 - val_accuracy: 0.9088\n",
            "Epoch 37/50\n",
            "421/421 [==============================] - ETA: 0s - loss: 0.2272 - accuracy: 0.9148\n",
            "Epoch 00037: saving model to /content/drive/My Drive/fashion_mnist_checkpoints\n",
            "421/421 [==============================] - 263s 624ms/step - loss: 0.2272 - accuracy: 0.9148 - val_loss: 0.3070 - val_accuracy: 0.8989\n",
            "Epoch 38/50\n",
            "421/421 [==============================] - ETA: 0s - loss: 0.2242 - accuracy: 0.9172\n",
            "Epoch 00038: saving model to /content/drive/My Drive/fashion_mnist_checkpoints\n",
            "421/421 [==============================] - 258s 612ms/step - loss: 0.2242 - accuracy: 0.9172 - val_loss: 0.3409 - val_accuracy: 0.8888\n",
            "Epoch 39/50\n",
            "421/421 [==============================] - ETA: 0s - loss: 0.2308 - accuracy: 0.9150\n",
            "Epoch 00039: saving model to /content/drive/My Drive/fashion_mnist_checkpoints\n",
            "421/421 [==============================] - 262s 621ms/step - loss: 0.2308 - accuracy: 0.9150 - val_loss: 0.3091 - val_accuracy: 0.8978\n",
            "Epoch 40/50\n",
            "421/421 [==============================] - ETA: 0s - loss: 0.2293 - accuracy: 0.9154\n",
            "Epoch 00040: saving model to /content/drive/My Drive/fashion_mnist_checkpoints\n",
            "421/421 [==============================] - 258s 613ms/step - loss: 0.2293 - accuracy: 0.9154 - val_loss: 0.3020 - val_accuracy: 0.9025\n",
            "Epoch 41/50\n",
            "421/421 [==============================] - ETA: 0s - loss: 0.2277 - accuracy: 0.9155\n",
            "Epoch 00041: saving model to /content/drive/My Drive/fashion_mnist_checkpoints\n",
            "421/421 [==============================] - 258s 612ms/step - loss: 0.2277 - accuracy: 0.9155 - val_loss: 0.3003 - val_accuracy: 0.9001\n",
            "Epoch 42/50\n",
            "421/421 [==============================] - ETA: 0s - loss: 0.2244 - accuracy: 0.9172\n",
            "Epoch 00042: saving model to /content/drive/My Drive/fashion_mnist_checkpoints\n",
            "421/421 [==============================] - 261s 619ms/step - loss: 0.2244 - accuracy: 0.9172 - val_loss: 0.2906 - val_accuracy: 0.9020\n",
            "Epoch 43/50\n",
            "421/421 [==============================] - ETA: 0s - loss: 0.2294 - accuracy: 0.9155\n",
            "Epoch 00043: saving model to /content/drive/My Drive/fashion_mnist_checkpoints\n",
            "421/421 [==============================] - 258s 613ms/step - loss: 0.2294 - accuracy: 0.9155 - val_loss: 0.3156 - val_accuracy: 0.8972\n",
            "Epoch 44/50\n",
            "421/421 [==============================] - ETA: 0s - loss: 0.2249 - accuracy: 0.9173\n",
            "Epoch 00044: saving model to /content/drive/My Drive/fashion_mnist_checkpoints\n",
            "421/421 [==============================] - 262s 621ms/step - loss: 0.2249 - accuracy: 0.9173 - val_loss: 0.2796 - val_accuracy: 0.9091\n",
            "Epoch 45/50\n",
            "421/421 [==============================] - ETA: 0s - loss: 0.2203 - accuracy: 0.9181\n",
            "Epoch 00045: saving model to /content/drive/My Drive/fashion_mnist_checkpoints\n",
            "421/421 [==============================] - 258s 614ms/step - loss: 0.2203 - accuracy: 0.9181 - val_loss: 0.3025 - val_accuracy: 0.9057\n",
            "Epoch 46/50\n",
            "421/421 [==============================] - ETA: 0s - loss: 0.2238 - accuracy: 0.9167\n",
            "Epoch 00046: saving model to /content/drive/My Drive/fashion_mnist_checkpoints\n",
            "421/421 [==============================] - 259s 614ms/step - loss: 0.2238 - accuracy: 0.9167 - val_loss: 0.3000 - val_accuracy: 0.8993\n",
            "Epoch 47/50\n",
            "421/421 [==============================] - ETA: 0s - loss: 0.2211 - accuracy: 0.9194\n",
            "Epoch 00047: saving model to /content/drive/My Drive/fashion_mnist_checkpoints\n",
            "421/421 [==============================] - 262s 621ms/step - loss: 0.2211 - accuracy: 0.9194 - val_loss: 0.3165 - val_accuracy: 0.9030\n",
            "Epoch 48/50\n",
            "421/421 [==============================] - ETA: 0s - loss: 0.2284 - accuracy: 0.9152\n",
            "Epoch 00048: saving model to /content/drive/My Drive/fashion_mnist_checkpoints\n",
            "421/421 [==============================] - 259s 615ms/step - loss: 0.2284 - accuracy: 0.9152 - val_loss: 0.3062 - val_accuracy: 0.9052\n",
            "Epoch 49/50\n",
            "421/421 [==============================] - ETA: 0s - loss: 0.2223 - accuracy: 0.9174\n",
            "Epoch 00049: saving model to /content/drive/My Drive/fashion_mnist_checkpoints\n",
            "421/421 [==============================] - 263s 624ms/step - loss: 0.2223 - accuracy: 0.9174 - val_loss: 0.3311 - val_accuracy: 0.8949\n",
            "Epoch 50/50\n",
            "421/421 [==============================] - ETA: 0s - loss: 0.2229 - accuracy: 0.9175\n",
            "Epoch 00050: saving model to /content/drive/My Drive/fashion_mnist_checkpoints\n",
            "421/421 [==============================] - 259s 616ms/step - loss: 0.2229 - accuracy: 0.9175 - val_loss: 0.3039 - val_accuracy: 0.9032\n"
          ],
          "name": "stdout"
        }
      ]
    },
    {
      "cell_type": "code",
      "metadata": {
        "id": "aYL8MqON1wSJ",
        "colab_type": "code",
        "outputId": "4426de19-7d35-4df8-ab5d-eeab2ff90f64",
        "colab": {
          "base_uri": "https://localhost:8080/",
          "height": 545
        }
      },
      "source": [
        "accuracy = history.history['accuracy']\n",
        "val_accuracy = history.history['val_accuracy']\n",
        "loss = history.history['loss']\n",
        "val_loss = history.history['val_loss']\n",
        "epochs = range(len(accuracy))\n",
        "\n",
        "plt.plot(epochs, accuracy, 'bo', label='Training accuracy')\n",
        "plt.plot(epochs, val_accuracy, 'b', label='Validation accuracy')\n",
        "plt.title('Training and validation accuracy')\n",
        "plt.legend()\n",
        "plt.figure()\n",
        "\n",
        "plt.plot(epochs, loss, 'bo', label='Training loss')\n",
        "plt.plot(epochs, val_loss, 'b', label='Validation loss')\n",
        "plt.title('Training and validation loss')\n",
        "plt.legend()\n",
        "plt.show()"
      ],
      "execution_count": 0,
      "outputs": [
        {
          "output_type": "display_data",
          "data": {
            "image/png": "[encoded data removed]",
            "text/plain": [
              "<Figure size 432x288 with 1 Axes>"
            ]
          },
          "metadata": {
            "tags": [],
            "needs_background": "light"
          }
        },
        {
          "output_type": "display_data",
          "data": {
            "image/png": "[encoded data removed]",
            "text/plain": [
              "<Figure size 432x288 with 1 Axes>"
            ]
          },
          "metadata": {
            "tags": [],
            "needs_background": "light"
          }
        }
      ]
    },
    {
      "cell_type": "code",
      "metadata": {
        "id": "vNKm6koB_8rY",
        "colab_type": "code",
        "colab": {}
      },
      "source": [
        "prediction=model.predict(X_test_reshaped)"
      ],
      "execution_count": 0,
      "outputs": []
    },
    {
      "cell_type": "code",
      "metadata": {
        "id": "MKaNwAMcAT4a",
        "colab_type": "code",
        "outputId": "aa678f6c-6628-4da3-e5f4-fcf6f6aa3a36",
        "colab": {
          "base_uri": "https://localhost:8080/",
          "height": 51
        }
      },
      "source": [
        "score = model.evaluate(X_test_reshaped, y_test, verbose=0)\n",
        "print('Test loss:', score[0])\n",
        "print('Test accuracy:', score[1])"
      ],
      "execution_count": 0,
      "outputs": [
        {
          "output_type": "stream",
          "text": [
            "Test loss: 0.3221280872821808\n",
            "Test accuracy: 0.9118000268936157\n"
          ],
          "name": "stdout"
        }
      ]
    },
    {
      "cell_type": "code",
      "metadata": {
        "id": "eI9qq1JcCdbG",
        "colab_type": "code",
        "colab": {}
      },
      "source": [
        "pred_labels = np.argmax(prediction, axis=-1)    "
      ],
      "execution_count": 0,
      "outputs": []
    },
    {
      "cell_type": "code",
      "metadata": {
        "id": "sAZ8M4eZCjbI",
        "colab_type": "code",
        "colab": {}
      },
      "source": [
        "test_labels= np.argmax(y_test, axis=-1)  "
      ],
      "execution_count": 0,
      "outputs": []
    },
    {
      "cell_type": "code",
      "metadata": {
        "id": "LXlvdrQXBKGx",
        "colab_type": "code",
        "outputId": "4017b233-de5c-4960-93f9-b1e28f31dbac",
        "colab": {
          "base_uri": "https://localhost:8080/",
          "height": 306
        }
      },
      "source": [
        "#Precision/Recall\n",
        "print(classification_report(test_labels, pred_labels))"
      ],
      "execution_count": 0,
      "outputs": [
        {
          "output_type": "stream",
          "text": [
            "              precision    recall  f1-score   support\n",
            "\n",
            "           0       0.84      0.86      0.85      1000\n",
            "           1       0.99      0.99      0.99      1000\n",
            "           2       0.85      0.88      0.87      1000\n",
            "           3       0.90      0.92      0.91      1000\n",
            "           4       0.90      0.81      0.85      1000\n",
            "           5       0.98      0.99      0.98      1000\n",
            "           6       0.75      0.76      0.75      1000\n",
            "           7       0.97      0.96      0.97      1000\n",
            "           8       0.98      0.98      0.98      1000\n",
            "           9       0.97      0.96      0.97      1000\n",
            "\n",
            "    accuracy                           0.91     10000\n",
            "   macro avg       0.91      0.91      0.91     10000\n",
            "weighted avg       0.91      0.91      0.91     10000\n",
            "\n"
          ],
          "name": "stdout"
        }
      ]
    },
    {
      "cell_type": "code",
      "metadata": {
        "id": "znrnzfIwD0kJ",
        "colab_type": "code",
        "outputId": "6cfa4d26-cd26-4aff-927e-982601e570fe",
        "colab": {
          "base_uri": "https://localhost:8080/",
          "height": 660
        }
      },
      "source": [
        "#Confusion Matrix\n",
        "import seaborn as sns\n",
        "from sklearn.metrics import confusion_matrix\n",
        "\n",
        "def plot_cm(y_true, y_pred, figsize=(10,10)):\n",
        "    cm = confusion_matrix(y_true, y_pred, labels=np.unique(y_true))\n",
        "    cm_sum = np.sum(cm, axis=1, keepdims=True)\n",
        "    cm_perc = cm / cm_sum.astype(float) * 100\n",
        "    annot = np.empty_like(cm).astype(str)\n",
        "    nrows, ncols = cm.shape\n",
        "    for i in range(nrows):\n",
        "        for j in range(ncols):\n",
        "            c = cm[i, j]\n",
        "            p = cm_perc[i, j]\n",
        "            if i == j:\n",
        "                s = cm_sum[i]\n",
        "                annot[i, j] = '%.1f%%\\n%d/%d' % (p, c, s)\n",
        "            elif c == 0:\n",
        "                annot[i, j] = ''\n",
        "            else:\n",
        "                annot[i, j] = '%.1f%%\\n%d' % (p, c)\n",
        "    cm = pd.DataFrame(cm, index=np.unique(y_true), columns=np.unique(y_true))\n",
        "    cm.index.name = 'Actual'\n",
        "    cm.columns.name = 'Predicted'\n",
        "    fig, ax = plt.subplots(figsize=figsize)\n",
        "    sns.heatmap(cm, annot=annot, fmt='', ax=ax)\n",
        "    \n",
        "plot_cm(test_labels, pred_labels)"
      ],
      "execution_count": 0,
      "outputs": [
        {
          "output_type": "stream",
          "text": [
            "/usr/local/lib/python3.6/dist-packages/statsmodels/tools/_testing.py:19: FutureWarning: pandas.util.testing is deprecated. Use the functions in the public API at pandas.testing instead.\n",
            "  import pandas.util.testing as tm\n"
          ],
          "name": "stderr"
        },
        {
          "output_type": "display_data",
          "data": {
            "image/png": "[encoded data removed]",
            "text/plain": [
              "<Figure size 720x720 with 2 Axes>"
            ]
          },
          "metadata": {
            "tags": [],
            "needs_background": "light"
          }
        }
      ]
    },
    {
      "cell_type": "code",
      "metadata": {
        "id": "R6K0N6igrWMD",
        "colab_type": "code",
        "colab": {}
      },
      "source": [
        ""
      ],
      "execution_count": 0,
      "outputs": []
    }
  ]
}